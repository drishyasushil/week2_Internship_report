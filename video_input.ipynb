{
 "cells": [
  {
   "cell_type": "code",
   "execution_count": 1,
   "id": "b868693b-7b26-4fc1-8b0e-437880b7bf33",
   "metadata": {},
   "outputs": [],
   "source": [
    "import cv2\n",
    "\n",
    "def video_input(file_path):\n",
    "    # Open the video file\n",
    "    video_capture = cv2.VideoCapture(file_path)\n",
    "\n",
    "    # Check if the video file is successfully opened\n",
    "    if not video_capture.isOpened():\n",
    "        print(\"Error: Could not open video file.\")\n",
    "        return\n",
    "\n",
    "    # Read and display frames from the video\n",
    "    while True:\n",
    "        ret, frame = video_capture.read()\n",
    "\n",
    "        # Break the loop if the video is finished\n",
    "        if not ret:\n",
    "            break\n",
    "\n",
    "        # Display the frame\n",
    "        cv2.imshow(\"Video Frame\", frame)\n",
    "\n",
    "        # Break the loop if 'q' key is pressed\n",
    "        if cv2.waitKey(25) & 0xFF == ord('q'):\n",
    "            break\n",
    "\n",
    "    # Release the video capture object and close the window\n",
    "    video_capture.release()\n",
    "    cv2.destroyAllWindows()\n",
    "\n",
    "# Example Usage\n",
    "video_path = 'C:/Users/drish/Desktop/Internship ICTK/football video clips/football_1.mp4'\n",
    "video_input(video_path)"
   ]
  },
  {
   "cell_type": "code",
   "execution_count": null,
   "id": "14fb0d22-b803-4c6a-bef5-466b6e6175da",
   "metadata": {},
   "outputs": [],
   "source": []
  }
 ],
 "metadata": {
  "kernelspec": {
   "display_name": "Python 3 (ipykernel)",
   "language": "python",
   "name": "python3"
  },
  "language_info": {
   "codemirror_mode": {
    "name": "ipython",
    "version": 3
   },
   "file_extension": ".py",
   "mimetype": "text/x-python",
   "name": "python",
   "nbconvert_exporter": "python",
   "pygments_lexer": "ipython3",
   "version": "3.8.10"
  }
 },
 "nbformat": 4,
 "nbformat_minor": 5
}
