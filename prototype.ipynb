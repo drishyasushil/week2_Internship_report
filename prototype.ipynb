{
 "cells": [
  {
   "cell_type": "code",
   "execution_count": 23,
   "id": "70ccd4f4-dc9b-4e9d-b24d-62c2355826b0",
   "metadata": {},
   "outputs": [],
   "source": [
    "import cv2\n",
    "import os\n",
    "\n",
    "def extract_segments(video_path, start_time, end_time, output_path):\n",
    "    # Open the video file\n",
    "    video_capture = cv2.VideoCapture(video_path)\n",
    "    fps = video_capture.get(cv2.CAP_PROP_FPS)\n",
    "\n",
    "    # Set the start and end frame numbers based on the start and end times\n",
    "    start_frame = int(start_time * fps)\n",
    "    end_frame = int(end_time * fps)\n",
    "\n",
    "    # Start reading frames and writing segments\n",
    "    video_capture.set(cv2.CAP_PROP_POS_FRAMES, start_frame)\n",
    "    success, frame = video_capture.read()\n",
    "    frames_written = 0\n",
    "\n",
    "    while success and frames_written < (end_frame - start_frame):\n",
    "        cv2.imwrite(os.path.join(output_path, f\"frame_{frames_written}.jpg\"), frame)\n",
    "        success, frame = video_capture.read()\n",
    "        frames_written += 1\n",
    "\n",
    "    video_capture.release()\n",
    "\n",
    "# Example usage:\n",
    "video_path = \"football_1.mp4\"\n",
    "start_time = 1  # Start time in seconds\n",
    "end_time = 2   # End time in seconds\n",
    "output_path = \"output_segments\"\n",
    "extract_segments(video_path, start_time, end_time, output_path)\n"
   ]
  },
  {
   "cell_type": "code",
   "execution_count": null,
   "id": "45298ba4-4d5c-41b0-ad6f-505e77339b89",
   "metadata": {},
   "outputs": [],
   "source": []
  }
 ],
 "metadata": {
  "kernelspec": {
   "display_name": "Python 3 (ipykernel)",
   "language": "python",
   "name": "python3"
  },
  "language_info": {
   "codemirror_mode": {
    "name": "ipython",
    "version": 3
   },
   "file_extension": ".py",
   "mimetype": "text/x-python",
   "name": "python",
   "nbconvert_exporter": "python",
   "pygments_lexer": "ipython3",
   "version": "3.8.10"
  }
 },
 "nbformat": 4,
 "nbformat_minor": 5
}
